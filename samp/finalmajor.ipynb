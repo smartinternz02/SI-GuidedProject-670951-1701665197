{
  "cells": [
    {
      "cell_type": "code",
      "execution_count": 1,
      "metadata": {
        "id": "WxKpX-IdQY_s"
      },
      "outputs": [],
      "source": [
        "#import libraries\n",
        "\n",
        "import numpy as np\n",
        "\n",
        "import pandas as pd\n",
        "\n",
        "import matplotlib.pyplot as plt\n",
        "\n",
        "import seaborn as sns\n",
        "\n",
        "import pickle\n",
        "\n",
        "from sklearn.preprocessing import LabelEncoder\n",
        "\n",
        "from sklearn.metrics import r2_score\n",
        "\n",
        "from sklearn.model_selection import train_test_split\n",
        "\n",
        "from xgboost import XGBRegressor\n",
        "\n",
        "from sklearn.model_selection import GridSearchCV\n",
        "\n",
        "from sklearn.metrics import mean_squared_error, mean_squared_log_error\n",
        "from sklearn.linear_model import LinearRegression\n",
        "from sklearn.tree import DecisionTreeRegressor\n",
        "from sklearn.ensemble import RandomForestRegressor\n",
        "from sklearn.ensemble import GradientBoostingRegressor\n",
        "\n",
        "\n",
        "from sklearn.metrics import r2_score, mean_squared_error"
      ]
    },
    {
      "cell_type": "code",
      "execution_count": 2,
      "metadata": {
        "id": "_gtpPuKZckZI"
      },
      "outputs": [],
      "source": [
        "# from google.colab import drive\n",
        "# drive.mount('/content/drive')"
      ]
    },
    {
      "cell_type": "code",
      "execution_count": 3,
      "metadata": {
        "id": "g6qkrHi_RdpY"
      },
      "outputs": [],
      "source": [
        "#Reading the bodyfat.csv file using pandas and storing it in df.\n",
        "df = pd.read_csv(\"4_Smart watch prices.csv\")"
      ]
    },
    {
      "cell_type": "code",
      "execution_count": 4,
      "metadata": {
        "id": "Glzw7wftdHAG"
      },
      "outputs": [
        {
          "data": {
            "text/html": [
              "<div>\n",
              "<style scoped>\n",
              "    .dataframe tbody tr th:only-of-type {\n",
              "        vertical-align: middle;\n",
              "    }\n",
              "\n",
              "    .dataframe tbody tr th {\n",
              "        vertical-align: top;\n",
              "    }\n",
              "\n",
              "    .dataframe thead th {\n",
              "        text-align: right;\n",
              "    }\n",
              "</style>\n",
              "<table border=\"1\" class=\"dataframe\">\n",
              "  <thead>\n",
              "    <tr style=\"text-align: right;\">\n",
              "      <th></th>\n",
              "      <th>Brand</th>\n",
              "      <th>Model</th>\n",
              "      <th>Operating System</th>\n",
              "      <th>Connectivity</th>\n",
              "      <th>Display Type</th>\n",
              "      <th>Display Size (inches)</th>\n",
              "      <th>Resolution</th>\n",
              "      <th>Water Resistance (meters)</th>\n",
              "      <th>Battery Life (days)</th>\n",
              "      <th>Heart Rate Monitor</th>\n",
              "      <th>GPS</th>\n",
              "      <th>NFC</th>\n",
              "      <th>Price (USD)</th>\n",
              "    </tr>\n",
              "  </thead>\n",
              "  <tbody>\n",
              "    <tr>\n",
              "      <th>0</th>\n",
              "      <td>Apple</td>\n",
              "      <td>Watch Series 7</td>\n",
              "      <td>watchOS</td>\n",
              "      <td>Bluetooth, Wi-Fi, Cellular</td>\n",
              "      <td>Retina</td>\n",
              "      <td>1.90</td>\n",
              "      <td>396 x 484</td>\n",
              "      <td>50</td>\n",
              "      <td>18</td>\n",
              "      <td>Yes</td>\n",
              "      <td>Yes</td>\n",
              "      <td>Yes</td>\n",
              "      <td>$399</td>\n",
              "    </tr>\n",
              "    <tr>\n",
              "      <th>1</th>\n",
              "      <td>Samsung</td>\n",
              "      <td>Galaxy Watch 4</td>\n",
              "      <td>Wear OS</td>\n",
              "      <td>Bluetooth, Wi-Fi, Cellular</td>\n",
              "      <td>AMOLED</td>\n",
              "      <td>1.40</td>\n",
              "      <td>450 x 450</td>\n",
              "      <td>50</td>\n",
              "      <td>40</td>\n",
              "      <td>Yes</td>\n",
              "      <td>Yes</td>\n",
              "      <td>Yes</td>\n",
              "      <td>$249</td>\n",
              "    </tr>\n",
              "    <tr>\n",
              "      <th>2</th>\n",
              "      <td>Garmin</td>\n",
              "      <td>Venu 2</td>\n",
              "      <td>Garmin OS</td>\n",
              "      <td>Bluetooth, Wi-Fi</td>\n",
              "      <td>AMOLED</td>\n",
              "      <td>1.30</td>\n",
              "      <td>416 x 416</td>\n",
              "      <td>50</td>\n",
              "      <td>11</td>\n",
              "      <td>Yes</td>\n",
              "      <td>Yes</td>\n",
              "      <td>No</td>\n",
              "      <td>$399</td>\n",
              "    </tr>\n",
              "    <tr>\n",
              "      <th>3</th>\n",
              "      <td>Fitbit</td>\n",
              "      <td>Versa 3</td>\n",
              "      <td>Fitbit OS</td>\n",
              "      <td>Bluetooth, Wi-Fi</td>\n",
              "      <td>AMOLED</td>\n",
              "      <td>1.58</td>\n",
              "      <td>336 x 336</td>\n",
              "      <td>50</td>\n",
              "      <td>6</td>\n",
              "      <td>Yes</td>\n",
              "      <td>Yes</td>\n",
              "      <td>Yes</td>\n",
              "      <td>$229</td>\n",
              "    </tr>\n",
              "    <tr>\n",
              "      <th>4</th>\n",
              "      <td>Fossil</td>\n",
              "      <td>Gen 6</td>\n",
              "      <td>Wear OS</td>\n",
              "      <td>Bluetooth, Wi-Fi</td>\n",
              "      <td>AMOLED</td>\n",
              "      <td>1.28</td>\n",
              "      <td>416 x 416</td>\n",
              "      <td>30</td>\n",
              "      <td>24</td>\n",
              "      <td>Yes</td>\n",
              "      <td>Yes</td>\n",
              "      <td>Yes</td>\n",
              "      <td>$299</td>\n",
              "    </tr>\n",
              "  </tbody>\n",
              "</table>\n",
              "</div>"
            ],
            "text/plain": [
              "     Brand           Model Operating System                Connectivity  \\\n",
              "0    Apple  Watch Series 7          watchOS  Bluetooth, Wi-Fi, Cellular   \n",
              "1  Samsung  Galaxy Watch 4          Wear OS  Bluetooth, Wi-Fi, Cellular   \n",
              "2   Garmin          Venu 2        Garmin OS            Bluetooth, Wi-Fi   \n",
              "3   Fitbit         Versa 3        Fitbit OS            Bluetooth, Wi-Fi   \n",
              "4   Fossil           Gen 6          Wear OS            Bluetooth, Wi-Fi   \n",
              "\n",
              "  Display Type  Display Size (inches) Resolution Water Resistance (meters)  \\\n",
              "0       Retina                   1.90  396 x 484                        50   \n",
              "1       AMOLED                   1.40  450 x 450                        50   \n",
              "2       AMOLED                   1.30  416 x 416                        50   \n",
              "3       AMOLED                   1.58  336 x 336                        50   \n",
              "4       AMOLED                   1.28  416 x 416                        30   \n",
              "\n",
              "  Battery Life (days) Heart Rate Monitor  GPS  NFC Price (USD)  \n",
              "0                  18                Yes  Yes  Yes       $399   \n",
              "1                  40                Yes  Yes  Yes       $249   \n",
              "2                  11                Yes  Yes   No       $399   \n",
              "3                   6                Yes  Yes  Yes       $229   \n",
              "4                  24                Yes  Yes  Yes       $299   "
            ]
          },
          "execution_count": 4,
          "metadata": {},
          "output_type": "execute_result"
        }
      ],
      "source": [
        "df.head()"
      ]
    },
    {
      "cell_type": "code",
      "execution_count": 5,
      "metadata": {
        "id": "Ta-vwm6yghYs"
      },
      "outputs": [
        {
          "name": "stdout",
          "output_type": "stream",
          "text": [
            "<class 'pandas.core.frame.DataFrame'>\n",
            "RangeIndex: 379 entries, 0 to 378\n",
            "Data columns (total 13 columns):\n",
            " #   Column                     Non-Null Count  Dtype  \n",
            "---  ------                     --------------  -----  \n",
            " 0   Brand                      378 non-null    object \n",
            " 1   Model                      378 non-null    object \n",
            " 2   Operating System           376 non-null    object \n",
            " 3   Connectivity               378 non-null    object \n",
            " 4   Display Type               377 non-null    object \n",
            " 5   Display Size (inches)      376 non-null    float64\n",
            " 6   Resolution                 375 non-null    object \n",
            " 7   Water Resistance (meters)  378 non-null    object \n",
            " 8   Battery Life (days)        378 non-null    object \n",
            " 9   Heart Rate Monitor         378 non-null    object \n",
            " 10  GPS                        378 non-null    object \n",
            " 11  NFC                        378 non-null    object \n",
            " 12  Price (USD)                378 non-null    object \n",
            "dtypes: float64(1), object(12)\n",
            "memory usage: 38.6+ KB\n"
          ]
        }
      ],
      "source": [
        "df.info()"
      ]
    },
    {
      "cell_type": "code",
      "execution_count": 6,
      "metadata": {
        "id": "ZnF_ovMDgxF5"
      },
      "outputs": [
        {
          "data": {
            "text/plain": [
              "Brand                        1\n",
              "Model                        1\n",
              "Operating System             3\n",
              "Connectivity                 1\n",
              "Display Type                 2\n",
              "Display Size (inches)        3\n",
              "Resolution                   4\n",
              "Water Resistance (meters)    1\n",
              "Battery Life (days)          1\n",
              "Heart Rate Monitor           1\n",
              "GPS                          1\n",
              "NFC                          1\n",
              "Price (USD)                  1\n",
              "dtype: int64"
            ]
          },
          "execution_count": 6,
          "metadata": {},
          "output_type": "execute_result"
        }
      ],
      "source": [
        "df.isna().sum()"
      ]
    },
    {
      "cell_type": "code",
      "execution_count": 7,
      "metadata": {
        "id": "0ZwLywq1hCUp"
      },
      "outputs": [],
      "source": [
        "# Replace null values in object columns with mode\n",
        "object_columns = df. select_dtypes(include=[\"object\"]). columns\n",
        "for col in object_columns:\n",
        "    mode_value = df[col].mode()[0]\n",
        "    df [col] = df[col].fillna(mode_value)\n",
        "# Replace null values in float column with mean\n",
        "float_column = df. select_dtypes(include=[\"float64\"]).columns\n",
        "for col in float_column:\n",
        "    mean_value = df[col].mean ( )\n",
        "    df [col] = df[col]. fillna(mean_value)"
      ]
    },
    {
      "cell_type": "code",
      "execution_count": 8,
      "metadata": {
        "id": "6L4A7bdfiE_5"
      },
      "outputs": [],
      "source": [
        "df = df. rename(columns={\n",
        "'Display Size (inches)' : 'Display Size',\n",
        "'Water Resistance (meters)': 'Water Resistance',\n",
        "'Battery Life (days)' : 'Battery Life',\n",
        "'Price (USD)' : 'Price'\n",
        "})"
      ]
    },
    {
      "cell_type": "code",
      "execution_count": 9,
      "metadata": {
        "id": "XFEl04H3imS-"
      },
      "outputs": [
        {
          "data": {
            "text/plain": [
              "array(['50', '30', '100', '1.5', 'Not specified', '200', '10'],\n",
              "      dtype=object)"
            ]
          },
          "execution_count": 9,
          "metadata": {},
          "output_type": "execute_result"
        }
      ],
      "source": [
        "\n",
        "df['Water Resistance'].unique()\n"
      ]
    },
    {
      "cell_type": "code",
      "execution_count": 10,
      "metadata": {
        "id": "xDIh6drCnX9x"
      },
      "outputs": [
        {
          "data": {
            "text/plain": [
              "count     379\n",
              "unique      7\n",
              "top        50\n",
              "freq      276\n",
              "Name: Water Resistance, dtype: object"
            ]
          },
          "execution_count": 10,
          "metadata": {},
          "output_type": "execute_result"
        }
      ],
      "source": [
        "df['Water Resistance'].describe()"
      ]
    },
    {
      "cell_type": "code",
      "execution_count": 11,
      "metadata": {
        "id": "3JsD69ddoW3o"
      },
      "outputs": [],
      "source": [
        "df['Water Resistance'] = df['Water Resistance'].replace({'Not specified' : '50'})"
      ]
    },
    {
      "cell_type": "code",
      "execution_count": 12,
      "metadata": {
        "id": "YOCdlrZiq_w7"
      },
      "outputs": [
        {
          "data": {
            "text/plain": [
              "array([1.9       , 1.4       , 1.3       , 1.58      , 1.28      ,\n",
              "       1.43      , 1.75      , 1.39      , 1.36316489, 1.65      ,\n",
              "       1.2       , 1.57      , 1.        , 1.78      , 1.91      ,\n",
              "       1.38      , 1.06      , 1.35      , 1.34      , 0.9       ,\n",
              "       1.04      , 1.64      , 1.19      , 4.01      , 1.6       ,\n",
              "       1.42      , 2.1       , 1.23      , 1.1       , 1.22      ,\n",
              "       1.5       , 1.36      , 1.32      ])"
            ]
          },
          "execution_count": 12,
          "metadata": {},
          "output_type": "execute_result"
        }
      ],
      "source": [
        "df['Display Size'].unique()"
      ]
    },
    {
      "cell_type": "code",
      "execution_count": 13,
      "metadata": {
        "id": "OKksHHh6rLeR"
      },
      "outputs": [],
      "source": [
        "df['Display Size'] =df['Display Size'].round(1)"
      ]
    },
    {
      "cell_type": "code",
      "execution_count": 14,
      "metadata": {
        "id": "l9is86zCrWRL"
      },
      "outputs": [
        {
          "data": {
            "text/plain": [
              "array(['18', '40', '11', '6', '24', '14', '2', '4', '12', '30', '3', '45',\n",
              "       '5', '10', '48', '7', '16', '9', '25', '72', '60', '56', '70', '1',\n",
              "       '48 hours', '15', 'Unlimited', '1.5', '20', '8'], dtype=object)"
            ]
          },
          "execution_count": 14,
          "metadata": {},
          "output_type": "execute_result"
        }
      ],
      "source": [
        "df['Battery Life'].unique()"
      ]
    },
    {
      "cell_type": "code",
      "execution_count": 15,
      "metadata": {
        "id": "4QCuhRmMrc-w"
      },
      "outputs": [
        {
          "data": {
            "text/plain": [
              "count     379\n",
              "unique     30\n",
              "top        14\n",
              "freq       84\n",
              "Name: Battery Life, dtype: object"
            ]
          },
          "execution_count": 15,
          "metadata": {},
          "output_type": "execute_result"
        }
      ],
      "source": [
        "df['Battery Life'].describe()"
      ]
    },
    {
      "cell_type": "code",
      "execution_count": 16,
      "metadata": {
        "id": "Z5hO-aHcrinw"
      },
      "outputs": [],
      "source": [
        "df['Battery Life'] =df['Battery Life'].replace({'48 hours' : '14', 'Unlimited' : '14'})"
      ]
    },
    {
      "cell_type": "code",
      "execution_count": 17,
      "metadata": {
        "id": "B3n7aOwHr8wz"
      },
      "outputs": [],
      "source": [
        "df['Price']=df['Price'].str[1:]"
      ]
    },
    {
      "cell_type": "code",
      "execution_count": 18,
      "metadata": {
        "id": "BKhWcY8ysRZ8"
      },
      "outputs": [],
      "source": [
        "# Remove commas and spaces from the 'Price' column\n",
        "df['Price'] = df['Price'].replace({',': '', ' ': ''}, regex=True)\n",
        "\n",
        "# Convert the 'water Resistance', 'Battery Life', and 'Price' columns to float\n",
        "df['Water Resistance'] = df['Water Resistance'].astype(float)\n",
        "df['Battery Life'] = df['Battery Life'].astype(float)\n",
        "df['Price'] = df['Price'].astype(float)\n"
      ]
    },
    {
      "cell_type": "code",
      "execution_count": 19,
      "metadata": {
        "id": "5E6Uc0Tet9Qh"
      },
      "outputs": [],
      "source": [
        "lb = LabelEncoder()\n",
        "categorical_cols = df.select_dtypes(include=['object']).columns.tolist()\n",
        "for col in categorical_cols:\n",
        "  df[col] = lb.fit_transform(df[col])"
      ]
    },
    {
      "cell_type": "code",
      "execution_count": 52,
      "metadata": {
        "id": "JpsUWY1nudTL"
      },
      "outputs": [
        {
          "data": {
            "text/html": [
              "<div>\n",
              "<style scoped>\n",
              "    .dataframe tbody tr th:only-of-type {\n",
              "        vertical-align: middle;\n",
              "    }\n",
              "\n",
              "    .dataframe tbody tr th {\n",
              "        vertical-align: top;\n",
              "    }\n",
              "\n",
              "    .dataframe thead th {\n",
              "        text-align: right;\n",
              "    }\n",
              "</style>\n",
              "<table border=\"1\" class=\"dataframe\">\n",
              "  <thead>\n",
              "    <tr style=\"text-align: right;\">\n",
              "      <th></th>\n",
              "      <th>Brand</th>\n",
              "      <th>Model</th>\n",
              "      <th>Operating System</th>\n",
              "      <th>Connectivity</th>\n",
              "      <th>Display Type</th>\n",
              "      <th>Display Size</th>\n",
              "      <th>Resolution</th>\n",
              "      <th>Water Resistance</th>\n",
              "      <th>Battery Life</th>\n",
              "      <th>Heart Rate Monitor</th>\n",
              "      <th>GPS</th>\n",
              "      <th>NFC</th>\n",
              "      <th>Price</th>\n",
              "    </tr>\n",
              "  </thead>\n",
              "  <tbody>\n",
              "    <tr>\n",
              "      <th>0</th>\n",
              "      <td>1</td>\n",
              "      <td>127</td>\n",
              "      <td>34</td>\n",
              "      <td>2</td>\n",
              "      <td>17</td>\n",
              "      <td>1.9</td>\n",
              "      <td>27</td>\n",
              "      <td>50.0</td>\n",
              "      <td>18.0</td>\n",
              "      <td>0</td>\n",
              "      <td>1</td>\n",
              "      <td>1</td>\n",
              "      <td>399.0</td>\n",
              "    </tr>\n",
              "    <tr>\n",
              "      <th>1</th>\n",
              "      <td>30</td>\n",
              "      <td>36</td>\n",
              "      <td>31</td>\n",
              "      <td>2</td>\n",
              "      <td>0</td>\n",
              "      <td>1.4</td>\n",
              "      <td>31</td>\n",
              "      <td>50.0</td>\n",
              "      <td>40.0</td>\n",
              "      <td>0</td>\n",
              "      <td>1</td>\n",
              "      <td>1</td>\n",
              "      <td>249.0</td>\n",
              "    </tr>\n",
              "    <tr>\n",
              "      <th>2</th>\n",
              "      <td>8</td>\n",
              "      <td>105</td>\n",
              "      <td>9</td>\n",
              "      <td>1</td>\n",
              "      <td>0</td>\n",
              "      <td>1.3</td>\n",
              "      <td>30</td>\n",
              "      <td>50.0</td>\n",
              "      <td>11.0</td>\n",
              "      <td>0</td>\n",
              "      <td>1</td>\n",
              "      <td>0</td>\n",
              "      <td>399.0</td>\n",
              "    </tr>\n",
              "    <tr>\n",
              "      <th>3</th>\n",
              "      <td>6</td>\n",
              "      <td>109</td>\n",
              "      <td>7</td>\n",
              "      <td>1</td>\n",
              "      <td>0</td>\n",
              "      <td>1.6</td>\n",
              "      <td>19</td>\n",
              "      <td>50.0</td>\n",
              "      <td>6.0</td>\n",
              "      <td>0</td>\n",
              "      <td>1</td>\n",
              "      <td>1</td>\n",
              "      <td>229.0</td>\n",
              "    </tr>\n",
              "    <tr>\n",
              "      <th>4</th>\n",
              "      <td>7</td>\n",
              "      <td>43</td>\n",
              "      <td>31</td>\n",
              "      <td>1</td>\n",
              "      <td>0</td>\n",
              "      <td>1.3</td>\n",
              "      <td>30</td>\n",
              "      <td>30.0</td>\n",
              "      <td>24.0</td>\n",
              "      <td>0</td>\n",
              "      <td>1</td>\n",
              "      <td>1</td>\n",
              "      <td>299.0</td>\n",
              "    </tr>\n",
              "    <tr>\n",
              "      <th>...</th>\n",
              "      <td>...</td>\n",
              "      <td>...</td>\n",
              "      <td>...</td>\n",
              "      <td>...</td>\n",
              "      <td>...</td>\n",
              "      <td>...</td>\n",
              "      <td>...</td>\n",
              "      <td>...</td>\n",
              "      <td>...</td>\n",
              "      <td>...</td>\n",
              "      <td>...</td>\n",
              "      <td>...</td>\n",
              "      <td>...</td>\n",
              "    </tr>\n",
              "    <tr>\n",
              "      <th>374</th>\n",
              "      <td>38</td>\n",
              "      <td>79</td>\n",
              "      <td>32</td>\n",
              "      <td>1</td>\n",
              "      <td>16</td>\n",
              "      <td>1.4</td>\n",
              "      <td>21</td>\n",
              "      <td>50.0</td>\n",
              "      <td>30.0</td>\n",
              "      <td>0</td>\n",
              "      <td>0</td>\n",
              "      <td>1</td>\n",
              "      <td>279.0</td>\n",
              "    </tr>\n",
              "    <tr>\n",
              "      <th>375</th>\n",
              "      <td>41</td>\n",
              "      <td>132</td>\n",
              "      <td>33</td>\n",
              "      <td>2</td>\n",
              "      <td>0</td>\n",
              "      <td>1.4</td>\n",
              "      <td>32</td>\n",
              "      <td>50.0</td>\n",
              "      <td>15.0</td>\n",
              "      <td>0</td>\n",
              "      <td>1</td>\n",
              "      <td>1</td>\n",
              "      <td>349.0</td>\n",
              "    </tr>\n",
              "    <tr>\n",
              "      <th>376</th>\n",
              "      <td>9</td>\n",
              "      <td>119</td>\n",
              "      <td>12</td>\n",
              "      <td>1</td>\n",
              "      <td>0</td>\n",
              "      <td>1.4</td>\n",
              "      <td>32</td>\n",
              "      <td>50.0</td>\n",
              "      <td>25.0</td>\n",
              "      <td>0</td>\n",
              "      <td>1</td>\n",
              "      <td>1</td>\n",
              "      <td>249.0</td>\n",
              "    </tr>\n",
              "    <tr>\n",
              "      <th>377</th>\n",
              "      <td>26</td>\n",
              "      <td>118</td>\n",
              "      <td>5</td>\n",
              "      <td>1</td>\n",
              "      <td>0</td>\n",
              "      <td>1.6</td>\n",
              "      <td>17</td>\n",
              "      <td>50.0</td>\n",
              "      <td>14.0</td>\n",
              "      <td>0</td>\n",
              "      <td>0</td>\n",
              "      <td>1</td>\n",
              "      <td>159.0</td>\n",
              "    </tr>\n",
              "    <tr>\n",
              "      <th>378</th>\n",
              "      <td>35</td>\n",
              "      <td>71</td>\n",
              "      <td>31</td>\n",
              "      <td>2</td>\n",
              "      <td>0</td>\n",
              "      <td>1.4</td>\n",
              "      <td>32</td>\n",
              "      <td>50.0</td>\n",
              "      <td>72.0</td>\n",
              "      <td>0</td>\n",
              "      <td>1</td>\n",
              "      <td>1</td>\n",
              "      <td>299.0</td>\n",
              "    </tr>\n",
              "  </tbody>\n",
              "</table>\n",
              "<p>379 rows × 13 columns</p>\n",
              "</div>"
            ],
            "text/plain": [
              "     Brand  Model  Operating System  Connectivity  Display Type  Display Size  \\\n",
              "0        1    127                34             2            17           1.9   \n",
              "1       30     36                31             2             0           1.4   \n",
              "2        8    105                 9             1             0           1.3   \n",
              "3        6    109                 7             1             0           1.6   \n",
              "4        7     43                31             1             0           1.3   \n",
              "..     ...    ...               ...           ...           ...           ...   \n",
              "374     38     79                32             1            16           1.4   \n",
              "375     41    132                33             2             0           1.4   \n",
              "376      9    119                12             1             0           1.4   \n",
              "377     26    118                 5             1             0           1.6   \n",
              "378     35     71                31             2             0           1.4   \n",
              "\n",
              "     Resolution  Water Resistance  Battery Life  Heart Rate Monitor  GPS  NFC  \\\n",
              "0            27              50.0          18.0                   0    1    1   \n",
              "1            31              50.0          40.0                   0    1    1   \n",
              "2            30              50.0          11.0                   0    1    0   \n",
              "3            19              50.0           6.0                   0    1    1   \n",
              "4            30              30.0          24.0                   0    1    1   \n",
              "..          ...               ...           ...                 ...  ...  ...   \n",
              "374          21              50.0          30.0                   0    0    1   \n",
              "375          32              50.0          15.0                   0    1    1   \n",
              "376          32              50.0          25.0                   0    1    1   \n",
              "377          17              50.0          14.0                   0    0    1   \n",
              "378          32              50.0          72.0                   0    1    1   \n",
              "\n",
              "     Price  \n",
              "0    399.0  \n",
              "1    249.0  \n",
              "2    399.0  \n",
              "3    229.0  \n",
              "4    299.0  \n",
              "..     ...  \n",
              "374  279.0  \n",
              "375  349.0  \n",
              "376  249.0  \n",
              "377  159.0  \n",
              "378  299.0  \n",
              "\n",
              "[379 rows x 13 columns]"
            ]
          },
          "execution_count": 52,
          "metadata": {},
          "output_type": "execute_result"
        }
      ],
      "source": [
        "df.to_csv('file1.csv')\n",
        "df"
      ]
    },
    {
      "cell_type": "code",
      "execution_count": 21,
      "metadata": {
        "id": "iDhRZVqTukIa"
      },
      "outputs": [
        {
          "data": {
            "text/html": [
              "<div>\n",
              "<style scoped>\n",
              "    .dataframe tbody tr th:only-of-type {\n",
              "        vertical-align: middle;\n",
              "    }\n",
              "\n",
              "    .dataframe tbody tr th {\n",
              "        vertical-align: top;\n",
              "    }\n",
              "\n",
              "    .dataframe thead th {\n",
              "        text-align: right;\n",
              "    }\n",
              "</style>\n",
              "<table border=\"1\" class=\"dataframe\">\n",
              "  <thead>\n",
              "    <tr style=\"text-align: right;\">\n",
              "      <th></th>\n",
              "      <th>Brand</th>\n",
              "      <th>Model</th>\n",
              "      <th>Operating System</th>\n",
              "      <th>Connectivity</th>\n",
              "      <th>Display Type</th>\n",
              "      <th>Display Size</th>\n",
              "      <th>Resolution</th>\n",
              "      <th>Water Resistance</th>\n",
              "      <th>Battery Life</th>\n",
              "      <th>Heart Rate Monitor</th>\n",
              "      <th>GPS</th>\n",
              "      <th>NFC</th>\n",
              "      <th>Price</th>\n",
              "    </tr>\n",
              "  </thead>\n",
              "  <tbody>\n",
              "    <tr>\n",
              "      <th>count</th>\n",
              "      <td>379.000000</td>\n",
              "      <td>379.000000</td>\n",
              "      <td>379.000000</td>\n",
              "      <td>379.000000</td>\n",
              "      <td>379.000000</td>\n",
              "      <td>379.000000</td>\n",
              "      <td>379.000000</td>\n",
              "      <td>379.000000</td>\n",
              "      <td>379.000000</td>\n",
              "      <td>379.0</td>\n",
              "      <td>379.000000</td>\n",
              "      <td>379.00000</td>\n",
              "      <td>379.000000</td>\n",
              "    </tr>\n",
              "    <tr>\n",
              "      <th>mean</th>\n",
              "      <td>18.168865</td>\n",
              "      <td>68.606860</td>\n",
              "      <td>20.778364</td>\n",
              "      <td>1.203166</td>\n",
              "      <td>6.941953</td>\n",
              "      <td>1.368074</td>\n",
              "      <td>22.139842</td>\n",
              "      <td>52.804749</td>\n",
              "      <td>12.208443</td>\n",
              "      <td>0.0</td>\n",
              "      <td>0.920844</td>\n",
              "      <td>0.83905</td>\n",
              "      <td>312.910290</td>\n",
              "    </tr>\n",
              "    <tr>\n",
              "      <th>std</th>\n",
              "      <td>13.040757</td>\n",
              "      <td>38.933753</td>\n",
              "      <td>11.407946</td>\n",
              "      <td>0.532927</td>\n",
              "      <td>8.978918</td>\n",
              "      <td>0.219087</td>\n",
              "      <td>9.080415</td>\n",
              "      <td>26.939235</td>\n",
              "      <td>12.326042</td>\n",
              "      <td>0.0</td>\n",
              "      <td>0.270338</td>\n",
              "      <td>0.36797</td>\n",
              "      <td>202.163738</td>\n",
              "    </tr>\n",
              "    <tr>\n",
              "      <th>min</th>\n",
              "      <td>0.000000</td>\n",
              "      <td>0.000000</td>\n",
              "      <td>0.000000</td>\n",
              "      <td>0.000000</td>\n",
              "      <td>0.000000</td>\n",
              "      <td>0.900000</td>\n",
              "      <td>0.000000</td>\n",
              "      <td>1.500000</td>\n",
              "      <td>1.000000</td>\n",
              "      <td>0.0</td>\n",
              "      <td>0.000000</td>\n",
              "      <td>0.00000</td>\n",
              "      <td>49.000000</td>\n",
              "    </tr>\n",
              "    <tr>\n",
              "      <th>25%</th>\n",
              "      <td>7.000000</td>\n",
              "      <td>33.500000</td>\n",
              "      <td>9.000000</td>\n",
              "      <td>1.000000</td>\n",
              "      <td>0.000000</td>\n",
              "      <td>1.200000</td>\n",
              "      <td>17.500000</td>\n",
              "      <td>50.000000</td>\n",
              "      <td>3.000000</td>\n",
              "      <td>0.0</td>\n",
              "      <td>1.000000</td>\n",
              "      <td>1.00000</td>\n",
              "      <td>199.000000</td>\n",
              "    </tr>\n",
              "    <tr>\n",
              "      <th>50%</th>\n",
              "      <td>16.000000</td>\n",
              "      <td>71.000000</td>\n",
              "      <td>27.000000</td>\n",
              "      <td>1.000000</td>\n",
              "      <td>0.000000</td>\n",
              "      <td>1.400000</td>\n",
              "      <td>23.000000</td>\n",
              "      <td>50.000000</td>\n",
              "      <td>11.000000</td>\n",
              "      <td>0.0</td>\n",
              "      <td>1.000000</td>\n",
              "      <td>1.00000</td>\n",
              "      <td>279.000000</td>\n",
              "    </tr>\n",
              "    <tr>\n",
              "      <th>75%</th>\n",
              "      <td>31.000000</td>\n",
              "      <td>102.000000</td>\n",
              "      <td>31.000000</td>\n",
              "      <td>1.000000</td>\n",
              "      <td>14.000000</td>\n",
              "      <td>1.400000</td>\n",
              "      <td>32.000000</td>\n",
              "      <td>50.000000</td>\n",
              "      <td>15.000000</td>\n",
              "      <td>0.0</td>\n",
              "      <td>1.000000</td>\n",
              "      <td>1.00000</td>\n",
              "      <td>329.000000</td>\n",
              "    </tr>\n",
              "    <tr>\n",
              "      <th>max</th>\n",
              "      <td>41.000000</td>\n",
              "      <td>136.000000</td>\n",
              "      <td>34.000000</td>\n",
              "      <td>4.000000</td>\n",
              "      <td>26.000000</td>\n",
              "      <td>4.000000</td>\n",
              "      <td>35.000000</td>\n",
              "      <td>200.000000</td>\n",
              "      <td>72.000000</td>\n",
              "      <td>0.0</td>\n",
              "      <td>1.000000</td>\n",
              "      <td>1.00000</td>\n",
              "      <td>1800.000000</td>\n",
              "    </tr>\n",
              "  </tbody>\n",
              "</table>\n",
              "</div>"
            ],
            "text/plain": [
              "            Brand       Model  Operating System  Connectivity  Display Type  \\\n",
              "count  379.000000  379.000000        379.000000    379.000000    379.000000   \n",
              "mean    18.168865   68.606860         20.778364      1.203166      6.941953   \n",
              "std     13.040757   38.933753         11.407946      0.532927      8.978918   \n",
              "min      0.000000    0.000000          0.000000      0.000000      0.000000   \n",
              "25%      7.000000   33.500000          9.000000      1.000000      0.000000   \n",
              "50%     16.000000   71.000000         27.000000      1.000000      0.000000   \n",
              "75%     31.000000  102.000000         31.000000      1.000000     14.000000   \n",
              "max     41.000000  136.000000         34.000000      4.000000     26.000000   \n",
              "\n",
              "       Display Size  Resolution  Water Resistance  Battery Life  \\\n",
              "count    379.000000  379.000000        379.000000    379.000000   \n",
              "mean       1.368074   22.139842         52.804749     12.208443   \n",
              "std        0.219087    9.080415         26.939235     12.326042   \n",
              "min        0.900000    0.000000          1.500000      1.000000   \n",
              "25%        1.200000   17.500000         50.000000      3.000000   \n",
              "50%        1.400000   23.000000         50.000000     11.000000   \n",
              "75%        1.400000   32.000000         50.000000     15.000000   \n",
              "max        4.000000   35.000000        200.000000     72.000000   \n",
              "\n",
              "       Heart Rate Monitor         GPS        NFC        Price  \n",
              "count               379.0  379.000000  379.00000   379.000000  \n",
              "mean                  0.0    0.920844    0.83905   312.910290  \n",
              "std                   0.0    0.270338    0.36797   202.163738  \n",
              "min                   0.0    0.000000    0.00000    49.000000  \n",
              "25%                   0.0    1.000000    1.00000   199.000000  \n",
              "50%                   0.0    1.000000    1.00000   279.000000  \n",
              "75%                   0.0    1.000000    1.00000   329.000000  \n",
              "max                   0.0    1.000000    1.00000  1800.000000  "
            ]
          },
          "execution_count": 21,
          "metadata": {},
          "output_type": "execute_result"
        }
      ],
      "source": [
        "df.describe(include='all')"
      ]
    },
    {
      "cell_type": "code",
      "execution_count": 22,
      "metadata": {
        "id": "aE6E8c5Duy_-"
      },
      "outputs": [
        {
          "data": {
            "image/png": "[encoded data removed]",
            "text/plain": [
              "<Figure size 640x480 with 1 Axes>"
            ]
          },
          "metadata": {},
          "output_type": "display_data"
        }
      ],
      "source": [
        "# Get top ten brands\n",
        "top_brands = df['Brand'].value_counts().index[:10]\n",
        "counts = df['Brand'].value_counts().values[:10]\n",
        "\n",
        "# Set the style\n",
        "sns.set_style(\"darkgrid\")\n",
        "\n",
        "# Create the bar plot using Seaborn\n",
        "ax = sns.barplot(x=top_brands, y=counts, palette=\"muted\")\n",
        "\n",
        "# Set the x-tick labels to be rotated and aligned properly\n",
        "ax.set_xticklabels(ax.get_xticklabels(), rotation=45, ha='right')\n",
        "\n",
        "# Add value labels on the bars\n",
        "for i, v in enumerate(counts):\n",
        "    ax.text(i, v+5, str(v), color='black', ha='center')\n",
        "\n",
        "# Set the axis labels and title\n",
        "ax.set(xlabel='Brand', ylabel='Count', title='Top 10 Brands')\n",
        "\n",
        "# Display the plot\n",
        "plt.show()\n"
      ]
    },
    {
      "cell_type": "code",
      "execution_count": 23,
      "metadata": {
        "id": "j3-QNm_nweuN"
      },
      "outputs": [
        {
          "data": {
            "image/png": "[encoded data removed]",
            "text/plain": [
              "<Figure size 1000x600 with 1 Axes>"
            ]
          },
          "metadata": {},
          "output_type": "display_data"
        }
      ],
      "source": [
        "# Set the plot style\n",
        "sns.set_style('whitegrid')\n",
        "# Get the top 10 operating systems\n",
        "top_os = df['Operating System'].value_counts().index[:10]\n",
        "os_counts = df['Operating System'].value_counts().values[:10]\n",
        "# Create the bar plot\n",
        "fig, ax = plt. subplots(figsize=(10, 6))\n",
        "ax = sns. barplot(x=top_os, y=os_counts, palette='magma')\n",
        "# Set the axis labels and title\n",
        "ax.set(xlabel='Operating System', ylabel='Count', title='Top 10 Operating System')\n",
        "# Rotate x-axis tick labels\n",
        "plt.xticks (rotation=45, ha= 'right')\n",
        "# Add labels to the bars\n",
        "for i, v in enumerate(os_counts):\n",
        "    ax.text (i, v+5, str(v), color= 'black', ha= 'center')\n",
        "#Display the plot\n",
        "plt.show()"
      ]
    },
    {
      "cell_type": "code",
      "execution_count": 24,
      "metadata": {
        "id": "Dvha648QzM3t"
      },
      "outputs": [
        {
          "data": {
            "image/png": "[encoded data removed]",
            "text/plain": [
              "<Figure size 640x480 with 1 Axes>"
            ]
          },
          "metadata": {},
          "output_type": "display_data"
        }
      ],
      "source": [
        "# Filter the top 8 operating systems by frequency count\n",
        "top_operating_systems = df['Operating System']. value_counts().head(8).index.tolist()\n",
        "data_top_operating_systems = df[df['Operating System'].isin(top_operating_systems) ]\n",
        "# Set the plot style\n",
        "sns.set_style( 'whitegrid')\n",
        "# Create the line plot\n",
        "sns. lineplot(x='Operating System', y='Battery Life', data=data_top_operating_systems)\n",
        "# Set the axis labels and title\n",
        "plt.xlabel ('operating system')\n",
        "plt. ylabel ('Battery Life')\n",
        "plt.title('Battery Life Across Top 8 Operating Systems')\n",
        "# Align x-axis labels\n",
        "plt.xticks(rotation=45, ha='right' )\n",
        "# Display the plot|\n",
        "plt.show()"
      ]
    },
    {
      "cell_type": "code",
      "execution_count": 25,
      "metadata": {
        "id": "xOur82171AR_"
      },
      "outputs": [
        {
          "data": {
            "image/png": "[encoded data removed]",
            "text/plain": [
              "<Figure size 1200x600 with 2 Axes>"
            ]
          },
          "metadata": {},
          "output_type": "display_data"
        }
      ],
      "source": [
        "#calculate total sales for each brand\n",
        "total_sales = df.groupby('Brand')['Price'].sum().reset_index()\n",
        "\n",
        "#Sort the brands by total sales in descending order\n",
        "top_brands = total_sales.sort_values('Price', ascending=False).head(5)\n",
        "\n",
        "#Calculate the percentage of sales for each brand\n",
        "top_brands['Percent'] = top_brands['Price']/top_brands['Price'].sum() * 100\n",
        "\n",
        "# Create a grid with two subplots\n",
        "fig, axes = plt.subplots(nrows=1, ncols=2, figsize=(12,6))\n",
        "\n",
        "#Plot a bar chart for total sales by brand\n",
        "sns.barplot(x='Brand', y='Price', data=top_brands, palette='Set3', ax=axes[0])\n",
        "axes[0].set_xlabel('Brand')\n",
        "\n",
        "axes[0].set_ylabel('Total Sales ($)')\n",
        "axes[0].set_title('Total Sales by Top 5 Brands')\n",
        "\n",
        "#Plot a pie chart for percentage of sales by brand\n",
        "colors = sns.color_palette('Set3', top_brands.shape[0]).as_hex()\n",
        "axes[1].pie(top_brands['Percent'], labels=top_brands['Brand'], colors=colors, autopct='%1.1f%%', shadow=True)\n",
        "axes[1].set_title('Percentage of Sales by Top 5 Brands')\n",
        "\n",
        "#Adjust spacing between subplots\n",
        "fig.tight_layout()\n",
        "\n",
        "#Show the plot\n",
        "plt.show()"
      ]
    },
    {
      "cell_type": "code",
      "execution_count": 26,
      "metadata": {
        "id": "MpEUmKnW3Kw0"
      },
      "outputs": [
        {
          "data": {
            "text/html": [
              "<div>\n",
              "<style scoped>\n",
              "    .dataframe tbody tr th:only-of-type {\n",
              "        vertical-align: middle;\n",
              "    }\n",
              "\n",
              "    .dataframe tbody tr th {\n",
              "        vertical-align: top;\n",
              "    }\n",
              "\n",
              "    .dataframe thead th {\n",
              "        text-align: right;\n",
              "    }\n",
              "</style>\n",
              "<table border=\"1\" class=\"dataframe\">\n",
              "  <thead>\n",
              "    <tr style=\"text-align: right;\">\n",
              "      <th></th>\n",
              "      <th>Brand</th>\n",
              "      <th>Model</th>\n",
              "      <th>Operating System</th>\n",
              "      <th>Connectivity</th>\n",
              "      <th>Display Type</th>\n",
              "      <th>Display Size</th>\n",
              "      <th>Resolution</th>\n",
              "      <th>Water Resistance</th>\n",
              "      <th>Battery Life</th>\n",
              "      <th>Heart Rate Monitor</th>\n",
              "      <th>GPS</th>\n",
              "      <th>NFC</th>\n",
              "    </tr>\n",
              "  </thead>\n",
              "  <tbody>\n",
              "    <tr>\n",
              "      <th>0</th>\n",
              "      <td>1</td>\n",
              "      <td>127</td>\n",
              "      <td>34</td>\n",
              "      <td>2</td>\n",
              "      <td>17</td>\n",
              "      <td>1.9</td>\n",
              "      <td>27</td>\n",
              "      <td>50.0</td>\n",
              "      <td>18.0</td>\n",
              "      <td>0</td>\n",
              "      <td>1</td>\n",
              "      <td>1</td>\n",
              "    </tr>\n",
              "    <tr>\n",
              "      <th>1</th>\n",
              "      <td>30</td>\n",
              "      <td>36</td>\n",
              "      <td>31</td>\n",
              "      <td>2</td>\n",
              "      <td>0</td>\n",
              "      <td>1.4</td>\n",
              "      <td>31</td>\n",
              "      <td>50.0</td>\n",
              "      <td>40.0</td>\n",
              "      <td>0</td>\n",
              "      <td>1</td>\n",
              "      <td>1</td>\n",
              "    </tr>\n",
              "    <tr>\n",
              "      <th>2</th>\n",
              "      <td>8</td>\n",
              "      <td>105</td>\n",
              "      <td>9</td>\n",
              "      <td>1</td>\n",
              "      <td>0</td>\n",
              "      <td>1.3</td>\n",
              "      <td>30</td>\n",
              "      <td>50.0</td>\n",
              "      <td>11.0</td>\n",
              "      <td>0</td>\n",
              "      <td>1</td>\n",
              "      <td>0</td>\n",
              "    </tr>\n",
              "    <tr>\n",
              "      <th>3</th>\n",
              "      <td>6</td>\n",
              "      <td>109</td>\n",
              "      <td>7</td>\n",
              "      <td>1</td>\n",
              "      <td>0</td>\n",
              "      <td>1.6</td>\n",
              "      <td>19</td>\n",
              "      <td>50.0</td>\n",
              "      <td>6.0</td>\n",
              "      <td>0</td>\n",
              "      <td>1</td>\n",
              "      <td>1</td>\n",
              "    </tr>\n",
              "    <tr>\n",
              "      <th>4</th>\n",
              "      <td>7</td>\n",
              "      <td>43</td>\n",
              "      <td>31</td>\n",
              "      <td>1</td>\n",
              "      <td>0</td>\n",
              "      <td>1.3</td>\n",
              "      <td>30</td>\n",
              "      <td>30.0</td>\n",
              "      <td>24.0</td>\n",
              "      <td>0</td>\n",
              "      <td>1</td>\n",
              "      <td>1</td>\n",
              "    </tr>\n",
              "    <tr>\n",
              "      <th>...</th>\n",
              "      <td>...</td>\n",
              "      <td>...</td>\n",
              "      <td>...</td>\n",
              "      <td>...</td>\n",
              "      <td>...</td>\n",
              "      <td>...</td>\n",
              "      <td>...</td>\n",
              "      <td>...</td>\n",
              "      <td>...</td>\n",
              "      <td>...</td>\n",
              "      <td>...</td>\n",
              "      <td>...</td>\n",
              "    </tr>\n",
              "    <tr>\n",
              "      <th>374</th>\n",
              "      <td>38</td>\n",
              "      <td>79</td>\n",
              "      <td>32</td>\n",
              "      <td>1</td>\n",
              "      <td>16</td>\n",
              "      <td>1.4</td>\n",
              "      <td>21</td>\n",
              "      <td>50.0</td>\n",
              "      <td>30.0</td>\n",
              "      <td>0</td>\n",
              "      <td>0</td>\n",
              "      <td>1</td>\n",
              "    </tr>\n",
              "    <tr>\n",
              "      <th>375</th>\n",
              "      <td>41</td>\n",
              "      <td>132</td>\n",
              "      <td>33</td>\n",
              "      <td>2</td>\n",
              "      <td>0</td>\n",
              "      <td>1.4</td>\n",
              "      <td>32</td>\n",
              "      <td>50.0</td>\n",
              "      <td>15.0</td>\n",
              "      <td>0</td>\n",
              "      <td>1</td>\n",
              "      <td>1</td>\n",
              "    </tr>\n",
              "    <tr>\n",
              "      <th>376</th>\n",
              "      <td>9</td>\n",
              "      <td>119</td>\n",
              "      <td>12</td>\n",
              "      <td>1</td>\n",
              "      <td>0</td>\n",
              "      <td>1.4</td>\n",
              "      <td>32</td>\n",
              "      <td>50.0</td>\n",
              "      <td>25.0</td>\n",
              "      <td>0</td>\n",
              "      <td>1</td>\n",
              "      <td>1</td>\n",
              "    </tr>\n",
              "    <tr>\n",
              "      <th>377</th>\n",
              "      <td>26</td>\n",
              "      <td>118</td>\n",
              "      <td>5</td>\n",
              "      <td>1</td>\n",
              "      <td>0</td>\n",
              "      <td>1.6</td>\n",
              "      <td>17</td>\n",
              "      <td>50.0</td>\n",
              "      <td>14.0</td>\n",
              "      <td>0</td>\n",
              "      <td>0</td>\n",
              "      <td>1</td>\n",
              "    </tr>\n",
              "    <tr>\n",
              "      <th>378</th>\n",
              "      <td>35</td>\n",
              "      <td>71</td>\n",
              "      <td>31</td>\n",
              "      <td>2</td>\n",
              "      <td>0</td>\n",
              "      <td>1.4</td>\n",
              "      <td>32</td>\n",
              "      <td>50.0</td>\n",
              "      <td>72.0</td>\n",
              "      <td>0</td>\n",
              "      <td>1</td>\n",
              "      <td>1</td>\n",
              "    </tr>\n",
              "  </tbody>\n",
              "</table>\n",
              "<p>379 rows × 12 columns</p>\n",
              "</div>"
            ],
            "text/plain": [
              "     Brand  Model  Operating System  Connectivity  Display Type  Display Size  \\\n",
              "0        1    127                34             2            17           1.9   \n",
              "1       30     36                31             2             0           1.4   \n",
              "2        8    105                 9             1             0           1.3   \n",
              "3        6    109                 7             1             0           1.6   \n",
              "4        7     43                31             1             0           1.3   \n",
              "..     ...    ...               ...           ...           ...           ...   \n",
              "374     38     79                32             1            16           1.4   \n",
              "375     41    132                33             2             0           1.4   \n",
              "376      9    119                12             1             0           1.4   \n",
              "377     26    118                 5             1             0           1.6   \n",
              "378     35     71                31             2             0           1.4   \n",
              "\n",
              "     Resolution  Water Resistance  Battery Life  Heart Rate Monitor  GPS  NFC  \n",
              "0            27              50.0          18.0                   0    1    1  \n",
              "1            31              50.0          40.0                   0    1    1  \n",
              "2            30              50.0          11.0                   0    1    0  \n",
              "3            19              50.0           6.0                   0    1    1  \n",
              "4            30              30.0          24.0                   0    1    1  \n",
              "..          ...               ...           ...                 ...  ...  ...  \n",
              "374          21              50.0          30.0                   0    0    1  \n",
              "375          32              50.0          15.0                   0    1    1  \n",
              "376          32              50.0          25.0                   0    1    1  \n",
              "377          17              50.0          14.0                   0    0    1  \n",
              "378          32              50.0          72.0                   0    1    1  \n",
              "\n",
              "[379 rows x 12 columns]"
            ]
          },
          "execution_count": 26,
          "metadata": {},
          "output_type": "execute_result"
        }
      ],
      "source": [
        "# X consists of independent variables\n",
        "X = df.drop(['Price'],axis=1)\n",
        "X"
      ]
    },
    {
      "cell_type": "code",
      "execution_count": 27,
      "metadata": {
        "id": "q6Dysk8x3pLO"
      },
      "outputs": [
        {
          "data": {
            "text/plain": [
              "0      399.0\n",
              "1      249.0\n",
              "2      399.0\n",
              "3      229.0\n",
              "4      299.0\n",
              "       ...  \n",
              "374    279.0\n",
              "375    349.0\n",
              "376    249.0\n",
              "377    159.0\n",
              "378    299.0\n",
              "Name: Price, Length: 379, dtype: float64"
            ]
          },
          "execution_count": 27,
          "metadata": {},
          "output_type": "execute_result"
        }
      ],
      "source": [
        "y = df['Price']\n",
        "y"
      ]
    },
    {
      "cell_type": "code",
      "execution_count": 28,
      "metadata": {
        "id": "PgL9post3xMy"
      },
      "outputs": [
        {
          "name": "stdout",
          "output_type": "stream",
          "text": [
            "(303, 12)\n",
            "(76, 12)\n",
            "(303,)\n",
            "(76,)\n"
          ]
        }
      ],
      "source": [
        "X_train, X_test,y_train,y_test = train_test_split(X,y,test_size=0.20,random_state=25)\n",
        "print(X_train.shape)\n",
        "print(X_test.shape)\n",
        "print(y_train.shape)\n",
        "print(y_test.shape)"
      ]
    },
    {
      "cell_type": "code",
      "execution_count": 29,
      "metadata": {
        "id": "zlpNKroJ4m1_"
      },
      "outputs": [
        {
          "data": {
            "text/html": [
              "<style>#sk-container-id-1 {color: black;}#sk-container-id-1 pre{padding: 0;}#sk-container-id-1 div.sk-toggleable {background-color: white;}#sk-container-id-1 label.sk-toggleable__label {cursor: pointer;display: block;width: 100%;margin-bottom: 0;padding: 0.3em;box-sizing: border-box;text-align: center;}#sk-container-id-1 label.sk-toggleable__label-arrow:before {content: \"▸\";float: left;margin-right: 0.25em;color: #696969;}#sk-container-id-1 label.sk-toggleable__label-arrow:hover:before {color: black;}#sk-container-id-1 div.sk-estimator:hover label.sk-toggleable__label-arrow:before {color: black;}#sk-container-id-1 div.sk-toggleable__content {max-height: 0;max-width: 0;overflow: hidden;text-align: left;background-color: #f0f8ff;}#sk-container-id-1 div.sk-toggleable__content pre {margin: 0.2em;color: black;border-radius: 0.25em;background-color: #f0f8ff;}#sk-container-id-1 input.sk-toggleable__control:checked~div.sk-toggleable__content {max-height: 200px;max-width: 100%;overflow: auto;}#sk-container-id-1 input.sk-toggleable__control:checked~label.sk-toggleable__label-arrow:before {content: \"▾\";}#sk-container-id-1 div.sk-estimator input.sk-toggleable__control:checked~label.sk-toggleable__label {background-color: #d4ebff;}#sk-container-id-1 div.sk-label input.sk-toggleable__control:checked~label.sk-toggleable__label {background-color: #d4ebff;}#sk-container-id-1 input.sk-hidden--visually {border: 0;clip: rect(1px 1px 1px 1px);clip: rect(1px, 1px, 1px, 1px);height: 1px;margin: -1px;overflow: hidden;padding: 0;position: absolute;width: 1px;}#sk-container-id-1 div.sk-estimator {font-family: monospace;background-color: #f0f8ff;border: 1px dotted black;border-radius: 0.25em;box-sizing: border-box;margin-bottom: 0.5em;}#sk-container-id-1 div.sk-estimator:hover {background-color: #d4ebff;}#sk-container-id-1 div.sk-parallel-item::after {content: \"\";width: 100%;border-bottom: 1px solid gray;flex-grow: 1;}#sk-container-id-1 div.sk-label:hover label.sk-toggleable__label {background-color: #d4ebff;}#sk-container-id-1 div.sk-serial::before {content: \"\";position: absolute;border-left: 1px solid gray;box-sizing: border-box;top: 0;bottom: 0;left: 50%;z-index: 0;}#sk-container-id-1 div.sk-serial {display: flex;flex-direction: column;align-items: center;background-color: white;padding-right: 0.2em;padding-left: 0.2em;position: relative;}#sk-container-id-1 div.sk-item {position: relative;z-index: 1;}#sk-container-id-1 div.sk-parallel {display: flex;align-items: stretch;justify-content: center;background-color: white;position: relative;}#sk-container-id-1 div.sk-item::before, #sk-container-id-1 div.sk-parallel-item::before {content: \"\";position: absolute;border-left: 1px solid gray;box-sizing: border-box;top: 0;bottom: 0;left: 50%;z-index: -1;}#sk-container-id-1 div.sk-parallel-item {display: flex;flex-direction: column;z-index: 1;position: relative;background-color: white;}#sk-container-id-1 div.sk-parallel-item:first-child::after {align-self: flex-end;width: 50%;}#sk-container-id-1 div.sk-parallel-item:last-child::after {align-self: flex-start;width: 50%;}#sk-container-id-1 div.sk-parallel-item:only-child::after {width: 0;}#sk-container-id-1 div.sk-dashed-wrapped {border: 1px dashed gray;margin: 0 0.4em 0.5em 0.4em;box-sizing: border-box;padding-bottom: 0.4em;background-color: white;}#sk-container-id-1 div.sk-label label {font-family: monospace;font-weight: bold;display: inline-block;line-height: 1.2em;}#sk-container-id-1 div.sk-label-container {text-align: center;}#sk-container-id-1 div.sk-container {/* jupyter's `normalize.less` sets `[hidden] { display: none; }` but bootstrap.min.css set `[hidden] { display: none !important; }` so we also need the `!important` here to be able to override the default hidden behavior on the sphinx rendered scikit-learn.org. See: https://github.com/scikit-learn/scikit-learn/issues/21755 */display: inline-block !important;position: relative;}#sk-container-id-1 div.sk-text-repr-fallback {display: none;}</style><div id=\"sk-container-id-1\" class=\"sk-top-container\"><div class=\"sk-text-repr-fallback\"><pre>LinearRegression()</pre><b>In a Jupyter environment, please rerun this cell to show the HTML representation or trust the notebook. <br />On GitHub, the HTML representation is unable to render, please try loading this page with nbviewer.org.</b></div><div class=\"sk-container\" hidden><div class=\"sk-item\"><div class=\"sk-estimator sk-toggleable\"><input class=\"sk-toggleable__control sk-hidden--visually\" id=\"sk-estimator-id-1\" type=\"checkbox\" checked><label for=\"sk-estimator-id-1\" class=\"sk-toggleable__label sk-toggleable__label-arrow\">LinearRegression</label><div class=\"sk-toggleable__content\"><pre>LinearRegression()</pre></div></div></div></div></div>"
            ],
            "text/plain": [
              "LinearRegression()"
            ]
          },
          "execution_count": 29,
          "metadata": {},
          "output_type": "execute_result"
        }
      ],
      "source": [
        "lr = LinearRegression()\n",
        "lr.fit(X_train,y_train)"
      ]
    },
    {
      "cell_type": "code",
      "execution_count": 30,
      "metadata": {
        "id": "dHO8Tkfv4wCe"
      },
      "outputs": [
        {
          "data": {
            "text/html": [
              "<style>#sk-container-id-2 {color: black;}#sk-container-id-2 pre{padding: 0;}#sk-container-id-2 div.sk-toggleable {background-color: white;}#sk-container-id-2 label.sk-toggleable__label {cursor: pointer;display: block;width: 100%;margin-bottom: 0;padding: 0.3em;box-sizing: border-box;text-align: center;}#sk-container-id-2 label.sk-toggleable__label-arrow:before {content: \"▸\";float: left;margin-right: 0.25em;color: #696969;}#sk-container-id-2 label.sk-toggleable__label-arrow:hover:before {color: black;}#sk-container-id-2 div.sk-estimator:hover label.sk-toggleable__label-arrow:before {color: black;}#sk-container-id-2 div.sk-toggleable__content {max-height: 0;max-width: 0;overflow: hidden;text-align: left;background-color: #f0f8ff;}#sk-container-id-2 div.sk-toggleable__content pre {margin: 0.2em;color: black;border-radius: 0.25em;background-color: #f0f8ff;}#sk-container-id-2 input.sk-toggleable__control:checked~div.sk-toggleable__content {max-height: 200px;max-width: 100%;overflow: auto;}#sk-container-id-2 input.sk-toggleable__control:checked~label.sk-toggleable__label-arrow:before {content: \"▾\";}#sk-container-id-2 div.sk-estimator input.sk-toggleable__control:checked~label.sk-toggleable__label {background-color: #d4ebff;}#sk-container-id-2 div.sk-label input.sk-toggleable__control:checked~label.sk-toggleable__label {background-color: #d4ebff;}#sk-container-id-2 input.sk-hidden--visually {border: 0;clip: rect(1px 1px 1px 1px);clip: rect(1px, 1px, 1px, 1px);height: 1px;margin: -1px;overflow: hidden;padding: 0;position: absolute;width: 1px;}#sk-container-id-2 div.sk-estimator {font-family: monospace;background-color: #f0f8ff;border: 1px dotted black;border-radius: 0.25em;box-sizing: border-box;margin-bottom: 0.5em;}#sk-container-id-2 div.sk-estimator:hover {background-color: #d4ebff;}#sk-container-id-2 div.sk-parallel-item::after {content: \"\";width: 100%;border-bottom: 1px solid gray;flex-grow: 1;}#sk-container-id-2 div.sk-label:hover label.sk-toggleable__label {background-color: #d4ebff;}#sk-container-id-2 div.sk-serial::before {content: \"\";position: absolute;border-left: 1px solid gray;box-sizing: border-box;top: 0;bottom: 0;left: 50%;z-index: 0;}#sk-container-id-2 div.sk-serial {display: flex;flex-direction: column;align-items: center;background-color: white;padding-right: 0.2em;padding-left: 0.2em;position: relative;}#sk-container-id-2 div.sk-item {position: relative;z-index: 1;}#sk-container-id-2 div.sk-parallel {display: flex;align-items: stretch;justify-content: center;background-color: white;position: relative;}#sk-container-id-2 div.sk-item::before, #sk-container-id-2 div.sk-parallel-item::before {content: \"\";position: absolute;border-left: 1px solid gray;box-sizing: border-box;top: 0;bottom: 0;left: 50%;z-index: -1;}#sk-container-id-2 div.sk-parallel-item {display: flex;flex-direction: column;z-index: 1;position: relative;background-color: white;}#sk-container-id-2 div.sk-parallel-item:first-child::after {align-self: flex-end;width: 50%;}#sk-container-id-2 div.sk-parallel-item:last-child::after {align-self: flex-start;width: 50%;}#sk-container-id-2 div.sk-parallel-item:only-child::after {width: 0;}#sk-container-id-2 div.sk-dashed-wrapped {border: 1px dashed gray;margin: 0 0.4em 0.5em 0.4em;box-sizing: border-box;padding-bottom: 0.4em;background-color: white;}#sk-container-id-2 div.sk-label label {font-family: monospace;font-weight: bold;display: inline-block;line-height: 1.2em;}#sk-container-id-2 div.sk-label-container {text-align: center;}#sk-container-id-2 div.sk-container {/* jupyter's `normalize.less` sets `[hidden] { display: none; }` but bootstrap.min.css set `[hidden] { display: none !important; }` so we also need the `!important` here to be able to override the default hidden behavior on the sphinx rendered scikit-learn.org. See: https://github.com/scikit-learn/scikit-learn/issues/21755 */display: inline-block !important;position: relative;}#sk-container-id-2 div.sk-text-repr-fallback {display: none;}</style><div id=\"sk-container-id-2\" class=\"sk-top-container\"><div class=\"sk-text-repr-fallback\"><pre>DecisionTreeRegressor(max_depth=2, min_samples_leaf=5, min_samples_split=6)</pre><b>In a Jupyter environment, please rerun this cell to show the HTML representation or trust the notebook. <br />On GitHub, the HTML representation is unable to render, please try loading this page with nbviewer.org.</b></div><div class=\"sk-container\" hidden><div class=\"sk-item\"><div class=\"sk-estimator sk-toggleable\"><input class=\"sk-toggleable__control sk-hidden--visually\" id=\"sk-estimator-id-2\" type=\"checkbox\" checked><label for=\"sk-estimator-id-2\" class=\"sk-toggleable__label sk-toggleable__label-arrow\">DecisionTreeRegressor</label><div class=\"sk-toggleable__content\"><pre>DecisionTreeRegressor(max_depth=2, min_samples_leaf=5, min_samples_split=6)</pre></div></div></div></div></div>"
            ],
            "text/plain": [
              "DecisionTreeRegressor(max_depth=2, min_samples_leaf=5, min_samples_split=6)"
            ]
          },
          "execution_count": 30,
          "metadata": {},
          "output_type": "execute_result"
        }
      ],
      "source": [
        "dtr = DecisionTreeRegressor(max_depth=2, min_samples_split=6,min_samples_leaf=5)\n",
        "dtr.fit(X_train,y_train)"
      ]
    },
    {
      "cell_type": "code",
      "execution_count": 31,
      "metadata": {
        "id": "2uDGGm6e5tBo"
      },
      "outputs": [
        {
          "data": {
            "text/html": [
              "<style>#sk-container-id-3 {color: black;}#sk-container-id-3 pre{padding: 0;}#sk-container-id-3 div.sk-toggleable {background-color: white;}#sk-container-id-3 label.sk-toggleable__label {cursor: pointer;display: block;width: 100%;margin-bottom: 0;padding: 0.3em;box-sizing: border-box;text-align: center;}#sk-container-id-3 label.sk-toggleable__label-arrow:before {content: \"▸\";float: left;margin-right: 0.25em;color: #696969;}#sk-container-id-3 label.sk-toggleable__label-arrow:hover:before {color: black;}#sk-container-id-3 div.sk-estimator:hover label.sk-toggleable__label-arrow:before {color: black;}#sk-container-id-3 div.sk-toggleable__content {max-height: 0;max-width: 0;overflow: hidden;text-align: left;background-color: #f0f8ff;}#sk-container-id-3 div.sk-toggleable__content pre {margin: 0.2em;color: black;border-radius: 0.25em;background-color: #f0f8ff;}#sk-container-id-3 input.sk-toggleable__control:checked~div.sk-toggleable__content {max-height: 200px;max-width: 100%;overflow: auto;}#sk-container-id-3 input.sk-toggleable__control:checked~label.sk-toggleable__label-arrow:before {content: \"▾\";}#sk-container-id-3 div.sk-estimator input.sk-toggleable__control:checked~label.sk-toggleable__label {background-color: #d4ebff;}#sk-container-id-3 div.sk-label input.sk-toggleable__control:checked~label.sk-toggleable__label {background-color: #d4ebff;}#sk-container-id-3 input.sk-hidden--visually {border: 0;clip: rect(1px 1px 1px 1px);clip: rect(1px, 1px, 1px, 1px);height: 1px;margin: -1px;overflow: hidden;padding: 0;position: absolute;width: 1px;}#sk-container-id-3 div.sk-estimator {font-family: monospace;background-color: #f0f8ff;border: 1px dotted black;border-radius: 0.25em;box-sizing: border-box;margin-bottom: 0.5em;}#sk-container-id-3 div.sk-estimator:hover {background-color: #d4ebff;}#sk-container-id-3 div.sk-parallel-item::after {content: \"\";width: 100%;border-bottom: 1px solid gray;flex-grow: 1;}#sk-container-id-3 div.sk-label:hover label.sk-toggleable__label {background-color: #d4ebff;}#sk-container-id-3 div.sk-serial::before {content: \"\";position: absolute;border-left: 1px solid gray;box-sizing: border-box;top: 0;bottom: 0;left: 50%;z-index: 0;}#sk-container-id-3 div.sk-serial {display: flex;flex-direction: column;align-items: center;background-color: white;padding-right: 0.2em;padding-left: 0.2em;position: relative;}#sk-container-id-3 div.sk-item {position: relative;z-index: 1;}#sk-container-id-3 div.sk-parallel {display: flex;align-items: stretch;justify-content: center;background-color: white;position: relative;}#sk-container-id-3 div.sk-item::before, #sk-container-id-3 div.sk-parallel-item::before {content: \"\";position: absolute;border-left: 1px solid gray;box-sizing: border-box;top: 0;bottom: 0;left: 50%;z-index: -1;}#sk-container-id-3 div.sk-parallel-item {display: flex;flex-direction: column;z-index: 1;position: relative;background-color: white;}#sk-container-id-3 div.sk-parallel-item:first-child::after {align-self: flex-end;width: 50%;}#sk-container-id-3 div.sk-parallel-item:last-child::after {align-self: flex-start;width: 50%;}#sk-container-id-3 div.sk-parallel-item:only-child::after {width: 0;}#sk-container-id-3 div.sk-dashed-wrapped {border: 1px dashed gray;margin: 0 0.4em 0.5em 0.4em;box-sizing: border-box;padding-bottom: 0.4em;background-color: white;}#sk-container-id-3 div.sk-label label {font-family: monospace;font-weight: bold;display: inline-block;line-height: 1.2em;}#sk-container-id-3 div.sk-label-container {text-align: center;}#sk-container-id-3 div.sk-container {/* jupyter's `normalize.less` sets `[hidden] { display: none; }` but bootstrap.min.css set `[hidden] { display: none !important; }` so we also need the `!important` here to be able to override the default hidden behavior on the sphinx rendered scikit-learn.org. See: https://github.com/scikit-learn/scikit-learn/issues/21755 */display: inline-block !important;position: relative;}#sk-container-id-3 div.sk-text-repr-fallback {display: none;}</style><div id=\"sk-container-id-3\" class=\"sk-top-container\"><div class=\"sk-text-repr-fallback\"><pre>RandomForestRegressor(max_depth=8, max_features=0.8,\n",
              "                      min_weight_fraction_leaf=0.05, n_estimators=50,\n",
              "                      random_state=42)</pre><b>In a Jupyter environment, please rerun this cell to show the HTML representation or trust the notebook. <br />On GitHub, the HTML representation is unable to render, please try loading this page with nbviewer.org.</b></div><div class=\"sk-container\" hidden><div class=\"sk-item\"><div class=\"sk-estimator sk-toggleable\"><input class=\"sk-toggleable__control sk-hidden--visually\" id=\"sk-estimator-id-3\" type=\"checkbox\" checked><label for=\"sk-estimator-id-3\" class=\"sk-toggleable__label sk-toggleable__label-arrow\">RandomForestRegressor</label><div class=\"sk-toggleable__content\"><pre>RandomForestRegressor(max_depth=8, max_features=0.8,\n",
              "                      min_weight_fraction_leaf=0.05, n_estimators=50,\n",
              "                      random_state=42)</pre></div></div></div></div></div>"
            ],
            "text/plain": [
              "RandomForestRegressor(max_depth=8, max_features=0.8,\n",
              "                      min_weight_fraction_leaf=0.05, n_estimators=50,\n",
              "                      random_state=42)"
            ]
          },
          "execution_count": 31,
          "metadata": {},
          "output_type": "execute_result"
        }
      ],
      "source": [
        "rfr = RandomForestRegressor(n_estimators = 50,max_depth = 8,min_weight_fraction_leaf = 0.05,\n",
        "                            max_features = 0.8,random_state = 42)\n",
        "rfr.fit(X_train,y_train)"
      ]
    },
    {
      "cell_type": "code",
      "execution_count": 32,
      "metadata": {
        "id": "DQ6SvmYL6Kvq"
      },
      "outputs": [
        {
          "data": {
            "text/html": [
              "<style>#sk-container-id-4 {color: black;}#sk-container-id-4 pre{padding: 0;}#sk-container-id-4 div.sk-toggleable {background-color: white;}#sk-container-id-4 label.sk-toggleable__label {cursor: pointer;display: block;width: 100%;margin-bottom: 0;padding: 0.3em;box-sizing: border-box;text-align: center;}#sk-container-id-4 label.sk-toggleable__label-arrow:before {content: \"▸\";float: left;margin-right: 0.25em;color: #696969;}#sk-container-id-4 label.sk-toggleable__label-arrow:hover:before {color: black;}#sk-container-id-4 div.sk-estimator:hover label.sk-toggleable__label-arrow:before {color: black;}#sk-container-id-4 div.sk-toggleable__content {max-height: 0;max-width: 0;overflow: hidden;text-align: left;background-color: #f0f8ff;}#sk-container-id-4 div.sk-toggleable__content pre {margin: 0.2em;color: black;border-radius: 0.25em;background-color: #f0f8ff;}#sk-container-id-4 input.sk-toggleable__control:checked~div.sk-toggleable__content {max-height: 200px;max-width: 100%;overflow: auto;}#sk-container-id-4 input.sk-toggleable__control:checked~label.sk-toggleable__label-arrow:before {content: \"▾\";}#sk-container-id-4 div.sk-estimator input.sk-toggleable__control:checked~label.sk-toggleable__label {background-color: #d4ebff;}#sk-container-id-4 div.sk-label input.sk-toggleable__control:checked~label.sk-toggleable__label {background-color: #d4ebff;}#sk-container-id-4 input.sk-hidden--visually {border: 0;clip: rect(1px 1px 1px 1px);clip: rect(1px, 1px, 1px, 1px);height: 1px;margin: -1px;overflow: hidden;padding: 0;position: absolute;width: 1px;}#sk-container-id-4 div.sk-estimator {font-family: monospace;background-color: #f0f8ff;border: 1px dotted black;border-radius: 0.25em;box-sizing: border-box;margin-bottom: 0.5em;}#sk-container-id-4 div.sk-estimator:hover {background-color: #d4ebff;}#sk-container-id-4 div.sk-parallel-item::after {content: \"\";width: 100%;border-bottom: 1px solid gray;flex-grow: 1;}#sk-container-id-4 div.sk-label:hover label.sk-toggleable__label {background-color: #d4ebff;}#sk-container-id-4 div.sk-serial::before {content: \"\";position: absolute;border-left: 1px solid gray;box-sizing: border-box;top: 0;bottom: 0;left: 50%;z-index: 0;}#sk-container-id-4 div.sk-serial {display: flex;flex-direction: column;align-items: center;background-color: white;padding-right: 0.2em;padding-left: 0.2em;position: relative;}#sk-container-id-4 div.sk-item {position: relative;z-index: 1;}#sk-container-id-4 div.sk-parallel {display: flex;align-items: stretch;justify-content: center;background-color: white;position: relative;}#sk-container-id-4 div.sk-item::before, #sk-container-id-4 div.sk-parallel-item::before {content: \"\";position: absolute;border-left: 1px solid gray;box-sizing: border-box;top: 0;bottom: 0;left: 50%;z-index: -1;}#sk-container-id-4 div.sk-parallel-item {display: flex;flex-direction: column;z-index: 1;position: relative;background-color: white;}#sk-container-id-4 div.sk-parallel-item:first-child::after {align-self: flex-end;width: 50%;}#sk-container-id-4 div.sk-parallel-item:last-child::after {align-self: flex-start;width: 50%;}#sk-container-id-4 div.sk-parallel-item:only-child::after {width: 0;}#sk-container-id-4 div.sk-dashed-wrapped {border: 1px dashed gray;margin: 0 0.4em 0.5em 0.4em;box-sizing: border-box;padding-bottom: 0.4em;background-color: white;}#sk-container-id-4 div.sk-label label {font-family: monospace;font-weight: bold;display: inline-block;line-height: 1.2em;}#sk-container-id-4 div.sk-label-container {text-align: center;}#sk-container-id-4 div.sk-container {/* jupyter's `normalize.less` sets `[hidden] { display: none; }` but bootstrap.min.css set `[hidden] { display: none !important; }` so we also need the `!important` here to be able to override the default hidden behavior on the sphinx rendered scikit-learn.org. See: https://github.com/scikit-learn/scikit-learn/issues/21755 */display: inline-block !important;position: relative;}#sk-container-id-4 div.sk-text-repr-fallback {display: none;}</style><div id=\"sk-container-id-4\" class=\"sk-top-container\"><div class=\"sk-text-repr-fallback\"><pre>GradientBoostingRegressor(max_depth=1, random_state=42)</pre><b>In a Jupyter environment, please rerun this cell to show the HTML representation or trust the notebook. <br />On GitHub, the HTML representation is unable to render, please try loading this page with nbviewer.org.</b></div><div class=\"sk-container\" hidden><div class=\"sk-item\"><div class=\"sk-estimator sk-toggleable\"><input class=\"sk-toggleable__control sk-hidden--visually\" id=\"sk-estimator-id-4\" type=\"checkbox\" checked><label for=\"sk-estimator-id-4\" class=\"sk-toggleable__label sk-toggleable__label-arrow\">GradientBoostingRegressor</label><div class=\"sk-toggleable__content\"><pre>GradientBoostingRegressor(max_depth=1, random_state=42)</pre></div></div></div></div></div>"
            ],
            "text/plain": [
              "GradientBoostingRegressor(max_depth=1, random_state=42)"
            ]
          },
          "execution_count": 32,
          "metadata": {},
          "output_type": "execute_result"
        }
      ],
      "source": [
        "gbr = GradientBoostingRegressor(n_estimators=100,learning_rate=0.1,max_depth=1,random_state=42)\n",
        "gbr.fit(X_train,y_train)"
      ]
    },
    {
      "cell_type": "code",
      "execution_count": 33,
      "metadata": {
        "id": "5P04AscO6jBP"
      },
      "outputs": [
        {
          "data": {
            "text/html": [
              "<style>#sk-container-id-5 {color: black;}#sk-container-id-5 pre{padding: 0;}#sk-container-id-5 div.sk-toggleable {background-color: white;}#sk-container-id-5 label.sk-toggleable__label {cursor: pointer;display: block;width: 100%;margin-bottom: 0;padding: 0.3em;box-sizing: border-box;text-align: center;}#sk-container-id-5 label.sk-toggleable__label-arrow:before {content: \"▸\";float: left;margin-right: 0.25em;color: #696969;}#sk-container-id-5 label.sk-toggleable__label-arrow:hover:before {color: black;}#sk-container-id-5 div.sk-estimator:hover label.sk-toggleable__label-arrow:before {color: black;}#sk-container-id-5 div.sk-toggleable__content {max-height: 0;max-width: 0;overflow: hidden;text-align: left;background-color: #f0f8ff;}#sk-container-id-5 div.sk-toggleable__content pre {margin: 0.2em;color: black;border-radius: 0.25em;background-color: #f0f8ff;}#sk-container-id-5 input.sk-toggleable__control:checked~div.sk-toggleable__content {max-height: 200px;max-width: 100%;overflow: auto;}#sk-container-id-5 input.sk-toggleable__control:checked~label.sk-toggleable__label-arrow:before {content: \"▾\";}#sk-container-id-5 div.sk-estimator input.sk-toggleable__control:checked~label.sk-toggleable__label {background-color: #d4ebff;}#sk-container-id-5 div.sk-label input.sk-toggleable__control:checked~label.sk-toggleable__label {background-color: #d4ebff;}#sk-container-id-5 input.sk-hidden--visually {border: 0;clip: rect(1px 1px 1px 1px);clip: rect(1px, 1px, 1px, 1px);height: 1px;margin: -1px;overflow: hidden;padding: 0;position: absolute;width: 1px;}#sk-container-id-5 div.sk-estimator {font-family: monospace;background-color: #f0f8ff;border: 1px dotted black;border-radius: 0.25em;box-sizing: border-box;margin-bottom: 0.5em;}#sk-container-id-5 div.sk-estimator:hover {background-color: #d4ebff;}#sk-container-id-5 div.sk-parallel-item::after {content: \"\";width: 100%;border-bottom: 1px solid gray;flex-grow: 1;}#sk-container-id-5 div.sk-label:hover label.sk-toggleable__label {background-color: #d4ebff;}#sk-container-id-5 div.sk-serial::before {content: \"\";position: absolute;border-left: 1px solid gray;box-sizing: border-box;top: 0;bottom: 0;left: 50%;z-index: 0;}#sk-container-id-5 div.sk-serial {display: flex;flex-direction: column;align-items: center;background-color: white;padding-right: 0.2em;padding-left: 0.2em;position: relative;}#sk-container-id-5 div.sk-item {position: relative;z-index: 1;}#sk-container-id-5 div.sk-parallel {display: flex;align-items: stretch;justify-content: center;background-color: white;position: relative;}#sk-container-id-5 div.sk-item::before, #sk-container-id-5 div.sk-parallel-item::before {content: \"\";position: absolute;border-left: 1px solid gray;box-sizing: border-box;top: 0;bottom: 0;left: 50%;z-index: -1;}#sk-container-id-5 div.sk-parallel-item {display: flex;flex-direction: column;z-index: 1;position: relative;background-color: white;}#sk-container-id-5 div.sk-parallel-item:first-child::after {align-self: flex-end;width: 50%;}#sk-container-id-5 div.sk-parallel-item:last-child::after {align-self: flex-start;width: 50%;}#sk-container-id-5 div.sk-parallel-item:only-child::after {width: 0;}#sk-container-id-5 div.sk-dashed-wrapped {border: 1px dashed gray;margin: 0 0.4em 0.5em 0.4em;box-sizing: border-box;padding-bottom: 0.4em;background-color: white;}#sk-container-id-5 div.sk-label label {font-family: monospace;font-weight: bold;display: inline-block;line-height: 1.2em;}#sk-container-id-5 div.sk-label-container {text-align: center;}#sk-container-id-5 div.sk-container {/* jupyter's `normalize.less` sets `[hidden] { display: none; }` but bootstrap.min.css set `[hidden] { display: none !important; }` so we also need the `!important` here to be able to override the default hidden behavior on the sphinx rendered scikit-learn.org. See: https://github.com/scikit-learn/scikit-learn/issues/21755 */display: inline-block !important;position: relative;}#sk-container-id-5 div.sk-text-repr-fallback {display: none;}</style><div id=\"sk-container-id-5\" class=\"sk-top-container\"><div class=\"sk-text-repr-fallback\"><pre>XGBRegressor(base_score=None, booster=None, callbacks=None,\n",
              "             colsample_bylevel=0.5, colsample_bynode=None, colsample_bytree=0.4,\n",
              "             early_stopping_rounds=None, enable_categorical=False,\n",
              "             eval_metric=None, feature_types=None, gamma=None, gpu_id=None,\n",
              "             grow_policy=None, importance_type=None,\n",
              "             interaction_constraints=None, learning_rate=0.06, max_bin=None,\n",
              "             max_cat_threshold=None, max_cat_to_onehot=None,\n",
              "             max_delta_step=None, max_depth=2, max_leaves=3,\n",
              "             min_child_weight=None, missing=nan, monotone_constraints=None,\n",
              "             n_estimators=1000, n_jobs=None, num_parallel_tree=None,\n",
              "             predictor=None, random_state=1, ...)</pre><b>In a Jupyter environment, please rerun this cell to show the HTML representation or trust the notebook. <br />On GitHub, the HTML representation is unable to render, please try loading this page with nbviewer.org.</b></div><div class=\"sk-container\" hidden><div class=\"sk-item\"><div class=\"sk-estimator sk-toggleable\"><input class=\"sk-toggleable__control sk-hidden--visually\" id=\"sk-estimator-id-5\" type=\"checkbox\" checked><label for=\"sk-estimator-id-5\" class=\"sk-toggleable__label sk-toggleable__label-arrow\">XGBRegressor</label><div class=\"sk-toggleable__content\"><pre>XGBRegressor(base_score=None, booster=None, callbacks=None,\n",
              "             colsample_bylevel=0.5, colsample_bynode=None, colsample_bytree=0.4,\n",
              "             early_stopping_rounds=None, enable_categorical=False,\n",
              "             eval_metric=None, feature_types=None, gamma=None, gpu_id=None,\n",
              "             grow_policy=None, importance_type=None,\n",
              "             interaction_constraints=None, learning_rate=0.06, max_bin=None,\n",
              "             max_cat_threshold=None, max_cat_to_onehot=None,\n",
              "             max_delta_step=None, max_depth=2, max_leaves=3,\n",
              "             min_child_weight=None, missing=nan, monotone_constraints=None,\n",
              "             n_estimators=1000, n_jobs=None, num_parallel_tree=None,\n",
              "             predictor=None, random_state=1, ...)</pre></div></div></div></div></div>"
            ],
            "text/plain": [
              "XGBRegressor(base_score=None, booster=None, callbacks=None,\n",
              "             colsample_bylevel=0.5, colsample_bynode=None, colsample_bytree=0.4,\n",
              "             early_stopping_rounds=None, enable_categorical=False,\n",
              "             eval_metric=None, feature_types=None, gamma=None, gpu_id=None,\n",
              "             grow_policy=None, importance_type=None,\n",
              "             interaction_constraints=None, learning_rate=0.06, max_bin=None,\n",
              "             max_cat_threshold=None, max_cat_to_onehot=None,\n",
              "             max_delta_step=None, max_depth=2, max_leaves=3,\n",
              "             min_child_weight=None, missing=nan, monotone_constraints=None,\n",
              "             n_estimators=1000, n_jobs=None, num_parallel_tree=None,\n",
              "             predictor=None, random_state=1, ...)"
            ]
          },
          "execution_count": 33,
          "metadata": {},
          "output_type": "execute_result"
        }
      ],
      "source": [
        "xgb = XGBRegressor(n_estimators=1000,learning_rate=0.06,max_depth=2,subsample=0.7,\n",
        "                   colsample_bytree=0.4,colsample_bylevel=0.5,\n",
        "                   max_leaves=3,random_state=1)\n",
        "xgb.fit(X_train,y_train)"
      ]
    },
    {
      "cell_type": "code",
      "execution_count": 34,
      "metadata": {
        "id": "xtSVOU4R7rgv"
      },
      "outputs": [
        {
          "name": "stdout",
          "output_type": "stream",
          "text": [
            "R2 error is: 0.2295546632471358\n",
            "Root Mean Squared Error is: 179.89481395578446\n"
          ]
        }
      ],
      "source": [
        "\n",
        "\n",
        "# Assuming you have already trained your DecisionTreeRegressor as 'dtr'\n",
        "lr.fit(X_train, y_train)\n",
        "\n",
        "# Obtain predictions on the training set\n",
        "predict_train = lr.predict(X_train)\n",
        "\n",
        "# Calculate and print performance metrics\n",
        "error_score_lr_train = r2_score(y_train, predict_train)\n",
        "print(\"R2 error is:\", error_score_lr_train)\n",
        "\n",
        "mse = mean_squared_error(y_train, predict_train)\n",
        "rmse_lr_train = np.sqrt(mse)\n",
        "print(\"Root Mean Squared Error is:\", rmse_lr_train)\n"
      ]
    },
    {
      "cell_type": "code",
      "execution_count": 35,
      "metadata": {
        "id": "uZjW-IGT8-Fe"
      },
      "outputs": [
        {
          "name": "stdout",
          "output_type": "stream",
          "text": [
            "R2 error on the test set is: 0.05712170374474412\n",
            "Root Mean Squared Error on the test set is: 200.196293771496\n"
          ]
        }
      ],
      "source": [
        "from sklearn.linear_model import LinearRegression\n",
        "from sklearn.model_selection import train_test_split\n",
        "from sklearn.metrics import r2_score, mean_squared_error\n",
        "import numpy as np\n",
        "\n",
        "# Assuming 'X' is your feature matrix and 'y' is your target variable\n",
        "X_train, X_test, y_train, y_test = train_test_split(X, y, test_size=0.2, random_state=42)\n",
        "\n",
        "# Create and train a linear regression model\n",
        "lr_model = LinearRegression()\n",
        "lr_model.fit(X_train, y_train)\n",
        "\n",
        "# Make predictions on the test set\n",
        "predict_test = lr_model.predict(X_test)\n",
        "\n",
        "# Calculate and print performance metrics for the test set\n",
        "error_score_lr_test = r2_score(y_test, predict_test)\n",
        "print(\"R2 error on the test set is:\", error_score_lr_test)\n",
        "\n",
        "mse = mean_squared_error(y_test, predict_test)\n",
        "rmse_lr_test = np.sqrt(mse)\n",
        "print(\"Root Mean Squared Error on the test set is:\", rmse_lr_test)\n",
        "\n"
      ]
    },
    {
      "cell_type": "code",
      "execution_count": 36,
      "metadata": {
        "id": "TpK8jPA2-Yg0"
      },
      "outputs": [
        {
          "name": "stdout",
          "output_type": "stream",
          "text": [
            "R2 error is:  0.3387326887955302\n",
            "Root Mean Squared Error: 162.83567426724855\n"
          ]
        }
      ],
      "source": [
        "from sklearn.tree import DecisionTreeRegressor\n",
        "from sklearn.metrics import r2_score, mean_squared_error\n",
        "import numpy as np\n",
        "\n",
        "# Assuming 'X_train' and 'y_train' are your training set features and target variable\n",
        "# Assuming 'dtr' is your trained decision tree regression model\n",
        "predict_train_dtr = dtr.predict(X_train)\n",
        "\n",
        "# Calculate and print performance metrics for the training set\n",
        "error_score_dtr_train = r2_score(y_train, predict_train_dtr)\n",
        "print(\"R2 error is: \", error_score_dtr_train)\n",
        "\n",
        "mse = mean_squared_error(y_train, predict_train_dtr)\n",
        "rmse_dtr_train = np.sqrt(mse)\n",
        "print('Root Mean Squared Error:', rmse_dtr_train)\n",
        "\n"
      ]
    },
    {
      "cell_type": "code",
      "execution_count": 37,
      "metadata": {
        "id": "5MmHNrwt-fFo"
      },
      "outputs": [
        {
          "name": "stdout",
          "output_type": "stream",
          "text": [
            "R2 error is:  0.21290956944462147\n",
            "Root Mean Squared Error: 182.91129720942288\n"
          ]
        }
      ],
      "source": [
        "\n",
        "from sklearn.tree import DecisionTreeRegressor\n",
        "from sklearn.metrics import r2_score, mean_squared_error\n",
        "import numpy as np\n",
        "\n",
        "# Assuming 'X_test' and 'y_test' are your test set features and target variable\n",
        "# Assuming 'dtr' is your trained decision tree regression model\n",
        "predict_test_dtr = dtr.predict(X_test)\n",
        "\n",
        "# Calculate and print performance metrics for the test set\n",
        "error_score_dtr_test = r2_score(y_test, predict_test_dtr)\n",
        "print(\"R2 error is: \", error_score_dtr_test)\n",
        "\n",
        "mse = mean_squared_error(y_test, predict_test_dtr)\n",
        "rmse_dtr_test = np.sqrt(mse)\n",
        "print('Root Mean Squared Error:', rmse_dtr_test)\n"
      ]
    },
    {
      "cell_type": "code",
      "execution_count": 38,
      "metadata": {
        "id": "zztYstqUAPMx"
      },
      "outputs": [
        {
          "name": "stdout",
          "output_type": "stream",
          "text": [
            "R2 error is: 0.48966923521052297\n",
            "Root Mean Squared Error: 143.0496846113081\n"
          ]
        }
      ],
      "source": [
        "from sklearn.ensemble import RandomForestRegressor\n",
        "from sklearn.metrics import r2_score, mean_squared_error\n",
        "import numpy as np\n",
        "\n",
        "# Assuming 'X_train' and 'y_train' are your training set features and target variable\n",
        "# Assuming 'rfr' is your trained random forest regression model\n",
        "predict_train_rfr = rfr.predict(X_train)\n",
        "\n",
        "# Calculate and print performance metrics for the training set\n",
        "error_score_rfr_train = r2_score(y_train, predict_train_rfr)\n",
        "print(\"R2 error is:\", error_score_rfr_train)\n",
        "\n",
        "mse = mean_squared_error(y_train, predict_train_rfr)\n",
        "rmse_rfr_train = np.sqrt(mse)\n",
        "print('Root Mean Squared Error:', rmse_rfr_train)\n"
      ]
    },
    {
      "cell_type": "code",
      "execution_count": 39,
      "metadata": {
        "id": "x7UX3XZSDt6S"
      },
      "outputs": [
        {
          "name": "stdout",
          "output_type": "stream",
          "text": [
            "R2 error is: 0.5152275826832362\n",
            "Root Mean Squared Error: 143.5480060367846\n"
          ]
        }
      ],
      "source": [
        "from sklearn.ensemble import RandomForestRegressor\n",
        "from sklearn.metrics import r2_score, mean_squared_error\n",
        "import numpy as np\n",
        "\n",
        "# Assuming 'X_test' and 'y_test' are your test set features and target variable\n",
        "# Assuming 'rfr' is your trained Random Forest Regressor model\n",
        "predict_test_rfr = rfr.predict(X_test)\n",
        "\n",
        "# Calculate and print performance metrics for the testing set\n",
        "error_score_rfr_test = r2_score(y_test, predict_test_rfr)\n",
        "print(\"R2 error is:\", error_score_rfr_test)\n",
        "\n",
        "mse = mean_squared_error(y_test, predict_test_rfr)\n",
        "rmse_rfr_test = np.sqrt(mse)\n",
        "print('Root Mean Squared Error:', rmse_rfr_test)\n"
      ]
    },
    {
      "cell_type": "code",
      "execution_count": 40,
      "metadata": {
        "id": "URoqPgERE8tm"
      },
      "outputs": [
        {
          "name": "stdout",
          "output_type": "stream",
          "text": [
            "R2 error is: 0.944301879591386\n",
            "Root Mean Squared Error: 47.258648703048635\n"
          ]
        }
      ],
      "source": [
        "from sklearn.ensemble import GradientBoostingRegressor\n",
        "from sklearn.metrics import r2_score, mean_squared_error\n",
        "import numpy as np\n",
        "\n",
        "# Assuming 'X_train' and 'y_train' are your training set features and target variable\n",
        "# Assuming 'gbr' is your trained Gradient Boosting Regressor model\n",
        "gbr = GradientBoostingRegressor()  # You may adjust parameters based on your needs\n",
        "gbr.fit(X_train, y_train)\n",
        "\n",
        "# Make predictions on the training set\n",
        "predict_train_gbr = gbr.predict(X_train)\n",
        "\n",
        "# Calculate and print performance metrics for the training set\n",
        "error_score_gbr_train = r2_score(y_train, predict_train_gbr)\n",
        "print(\"R2 error is:\", error_score_gbr_train)\n",
        "\n",
        "mse = mean_squared_error(y_train, predict_train_gbr)\n",
        "rmse_gbr_train = np.sqrt(mse)\n",
        "print('Root Mean Squared Error:', rmse_gbr_train)\n"
      ]
    },
    {
      "cell_type": "code",
      "execution_count": 41,
      "metadata": {
        "id": "5PWmtkq6JWiM"
      },
      "outputs": [
        {
          "name": "stdout",
          "output_type": "stream",
          "text": [
            "R2 error for test set is: 0.8126387421983826\n",
            "Root Mean Squared Error for test set: 89.24175661816494\n"
          ]
        }
      ],
      "source": [
        "from sklearn.ensemble import GradientBoostingRegressor\n",
        "from sklearn.metrics import r2_score, mean_squared_error\n",
        "import numpy as np\n",
        "\n",
        "# Assuming 'X_train', 'y_train', 'X_test', and 'y_test' are your training and test sets\n",
        "# Assuming 'gbr' is your trained Gradient Boosting Regressor model\n",
        "gbr = GradientBoostingRegressor()  # You may adjust parameters based on your needs\n",
        "gbr.fit(X_train, y_train)\n",
        "\n",
        "\n",
        "# Make predictions on the test set\n",
        "predict_test_gbr = gbr.predict(X_test)\n",
        "\n",
        "# Calculate R2 score and mean squared error for the test set\n",
        "error_score_gbr_test = r2_score(y_test, predict_test_gbr)\n",
        "print(\"R2 error for test set is:\", error_score_gbr_test)\n",
        "\n",
        "mse_test = mean_squared_error(y_test, predict_test_gbr)\n",
        "rmse_gbr_test = np.sqrt(mse_test)\n",
        "print('Root Mean Squared Error for test set:', rmse_gbr_test)\n"
      ]
    },
    {
      "cell_type": "code",
      "execution_count": 42,
      "metadata": {
        "id": "VTh3F9oTL8qq"
      },
      "outputs": [
        {
          "name": "stdout",
          "output_type": "stream",
          "text": [
            "R2 error is:  0.9948550611494423\n",
            "Root Mean Squared Error: 14.36319769865756\n"
          ]
        }
      ],
      "source": [
        "\n",
        "import xgboost as xgb  # Assuming you have XGBoost installed\n",
        "from sklearn.metrics import r2_score, mean_squared_error\n",
        "import numpy as np\n",
        "\n",
        "# Assuming 'X_train' and 'y_train' are your training set features and target variable\n",
        "# Assuming 'xgb' is your trained XGBoost model\n",
        "xgb_model = xgb.XGBRegressor()  # You may adjust parameters based on your needs\n",
        "xgb_model.fit(X_train, y_train)\n",
        "\n",
        "# Make predictions on the training set\n",
        "predict_train_xgb = xgb_model.predict(X_train)\n",
        "\n",
        "# Calculate and print performance metrics for the training set\n",
        "error_score_xgb_train = r2_score(y_train, predict_train_xgb)\n",
        "print(\"R2 error is: \", error_score_xgb_train)\n",
        "\n",
        "mse = mean_squared_error(y_train, predict_train_xgb)\n",
        "rmse_xgb_train = np.sqrt(mse)\n",
        "print('Root Mean Squared Error:', rmse_xgb_train)\n",
        "\n"
      ]
    },
    {
      "cell_type": "code",
      "execution_count": 43,
      "metadata": {
        "id": "esgH9RK9NPSF"
      },
      "outputs": [
        {
          "name": "stdout",
          "output_type": "stream",
          "text": [
            "R2 error is:  0.5549837417557505\n",
            "Root Mean Squared Error: 137.5359249651272\n"
          ]
        }
      ],
      "source": [
        "\n",
        "\n",
        "# testing score\n",
        "predict_test_xgb = xgb_model.predict(X_test)  # Assuming xgb_model is your trained XGBoost model\n",
        "\n",
        "error_score_xgb_test = r2_score(y_test, predict_test_xgb)\n",
        "print(\"R2 error is: \", error_score_xgb_test)\n",
        "\n",
        "mse = mean_squared_error(y_test, predict_test_xgb)  # Corrected the variable name\n",
        "rmse_xgb_test = np.sqrt(mse)\n",
        "print('Root Mean Squared Error:', rmse_xgb_test)\n"
      ]
    },
    {
      "cell_type": "code",
      "execution_count": 44,
      "metadata": {
        "id": "-wB2H-lWO-Ig"
      },
      "outputs": [
        {
          "name": "stdout",
          "output_type": "stream",
          "text": [
            "                         Model  Training R2  Testing R2  Training RMSE  \\\n",
            "0            Linear Regression     0.229555    0.057122     179.894814   \n",
            "1      Decision Tree Regressor     0.338733    0.212910     162.835674   \n",
            "2      Random Forest Regressor     0.489669    0.515228     143.049685   \n",
            "3  Gradient Boosting Regressor     0.944302    0.812639      47.258649   \n",
            "4           XG Boost Regressor     0.994855    0.554984      14.363198   \n",
            "\n",
            "   Testing RMSE  \n",
            "0    200.196294  \n",
            "1    182.911297  \n",
            "2    143.548006  \n",
            "3     89.241757  \n",
            "4    137.535925  \n"
          ]
        }
      ],
      "source": [
        "import pandas as pd\n",
        "\n",
        "results = pd.DataFrame(columns=['Model', 'Training R2', 'Testing R2', 'Training RMSE', 'Testing RMSE'])\n",
        "results.loc[0] = ['Linear Regression', error_score_lr_train, error_score_lr_test, rmse_lr_train, rmse_lr_test]\n",
        "results.loc[1] = ['Decision Tree Regressor', error_score_dtr_train, error_score_dtr_test, rmse_dtr_train, rmse_dtr_test]\n",
        "results.loc[2] = ['Random Forest Regressor', error_score_rfr_train, error_score_rfr_test, rmse_rfr_train, rmse_rfr_test]\n",
        "results.loc[3] = ['Gradient Boosting Regressor', error_score_gbr_train, error_score_gbr_test, rmse_gbr_train, rmse_gbr_test]\n",
        "results.loc[4] = ['XG Boost Regressor', error_score_xgb_train, error_score_xgb_test, rmse_xgb_train, rmse_xgb_test]\n",
        "print(results)\n",
        "\n"
      ]
    },
    {
      "cell_type": "code",
      "execution_count": 45,
      "metadata": {
        "id": "IZR_9CzzPn2t"
      },
      "outputs": [],
      "source": [
        "import pickle\n",
        "\n",
        "# Assuming 'xgb_model' is your trained XGBoost model\n",
        "with open('sw.pkl', 'wb') as file:\n",
        "    pickle.dump(xgb_model, file)\n"
      ]
    },
    {
      "cell_type": "code",
      "execution_count": 51,
      "metadata": {},
      "outputs": [
        {
          "name": "stdout",
          "output_type": "stream",
          "text": [
            "[383.07]\n"
          ]
        }
      ],
      "source": [
        "model1 = pickle.load(open('sw.pkl', 'rb'))\n",
        "# 1\t127\t34\t2\t17\t1.9\t27\t50.0\t18.0\t0\t1\t1\n",
        "# Brand,Model,Operating System,Connectivity,Display Type,Display Size,Resolution,Water Resistance,Battery Life,Heart Rate Monitor\tGPS\tNFC\n",
        "prediction = model1.predict(pd.DataFrame([[1,127,34,2,17,1.9,27,50.0,18.0,0,1,1]],\n",
        "                                            columns=['Brand','Model','Operating System','Connectivity',\n",
        "                                                    'Display Type','Display Size','Resolution',\n",
        "                                                    'Water Resistance','Battery Life','Heart Rate Monitor',\n",
        "                                                    'GPS','NFC']))\n",
        "\n",
        "prediction = np.round(prediction,2)\n",
        "print(prediction)"
      ]
    }
  ],
  "metadata": {
    "colab": {
      "provenance": []
    },
    "kernelspec": {
      "display_name": "Python 3",
      "name": "python3"
    },
    "language_info": {
      "codemirror_mode": {
        "name": "ipython",
        "version": 3
      },
      "file_extension": ".py",
      "mimetype": "text/x-python",
      "name": "python",
      "nbconvert_exporter": "python",
      "pygments_lexer": "ipython3",
      "version": "3.11.5"
    }
  },
  "nbformat": 4,
  "nbformat_minor": 0
}
